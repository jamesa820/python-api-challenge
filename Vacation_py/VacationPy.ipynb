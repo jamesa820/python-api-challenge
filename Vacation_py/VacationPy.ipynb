{
 "cells": [
  {
   "cell_type": "markdown",
   "metadata": {},
   "source": [
    "# VacationPy\n",
    "----\n",
    "\n",
    "#### Note\n",
    "* Instructions have been included for each segment. You do not have to follow them exactly, but they are included to help you think through the steps."
   ]
  },
  {
   "cell_type": "code",
   "execution_count": null,
   "metadata": {},
   "outputs": [],
   "source": [
    "pip install gmaps"
   ]
  },
  {
   "cell_type": "code",
   "execution_count": null,
   "metadata": {},
   "outputs": [],
   "source": [
    "pip install gmplot"
   ]
  },
  {
   "cell_type": "code",
   "execution_count": 1,
   "metadata": {},
   "outputs": [],
   "source": [
    "# Dependencies and Setup\n",
    "import os\n",
    "from scipy.stats import linregress\n",
    "import matplotlib.pyplot as plt\n",
    "import pandas as pd\n",
    "import numpy as np\n",
    "from citipy import citipy\n",
    "import requests\n",
    "import json\n",
    "import pprint as pp\n",
    "import requests\n",
    "import gmaps\n",
    "import gmplot\n",
    "import os\n",
    "\n",
    "# Import API key\n",
    "from api_keys import g_key\n"
   ]
  },
  {
   "cell_type": "code",
   "execution_count": 2,
   "metadata": {},
   "outputs": [],
   "source": [
    "#apiData()\n",
    "gmaps.configure(api_key=g_key)\n",
    "gmap = gmplot.GoogleMapPlotter(37.4,-77.55,10, apikey=g_key)"
   ]
  },
  {
   "cell_type": "code",
   "execution_count": 3,
   "metadata": {},
   "outputs": [
    {
     "name": "stdout",
     "output_type": "stream",
     "text": [
      "C:\\Users\\james\\OneDrive\\Documents\\BOOTCAMP\\Unit06 - Python\\Today-api\\Instructions\\starter_code\n",
      "     City_ID         City  Cloudiness Country        Date  Humidity    Lat  \\\n",
      "0          0    ostrovnoy           2      RU  1558378754        72  68.05   \n",
      "1          1    mahebourg          75      MU  1558378503        74 -20.41   \n",
      "2          2      qaanaaq          25      GL  1558378755        73  77.48   \n",
      "3          3       zhuhai           0      CN  1558378755        39  40.71   \n",
      "4          4    cape town          20      ZA  1558378755        76 -33.93   \n",
      "..       ...          ...         ...     ...         ...       ...    ...   \n",
      "543      543       yabrud           0      SY  1558378840        32  33.97   \n",
      "544      544      paraiso           5      MX  1558378898         4  24.01   \n",
      "545      545      veraval           0      FR  1558378898        62  49.65   \n",
      "546      546  novyy urgal         100      RU  1558378899        93  51.07   \n",
      "547      547      tongren           4      CN  1558378899        64  27.72   \n",
      "\n",
      "        Lng  Max Temp  Wind Speed  \n",
      "0     39.51     37.50        7.16  \n",
      "1     57.70     78.80       11.41  \n",
      "2    -69.36     22.20        2.37  \n",
      "3    112.04     44.60        4.47  \n",
      "4     18.42     55.99        8.05  \n",
      "..      ...       ...         ...  \n",
      "543   36.66     80.60        8.05  \n",
      "544 -104.61     84.20       16.11  \n",
      "545    0.71     61.00        8.05  \n",
      "546  132.56     49.74        2.68  \n",
      "547  109.18     55.86        2.84  \n",
      "\n",
      "[548 rows x 10 columns]\n",
      "548  < locs humidity >  548\n",
      "     City_ID          City  Cloudiness Country        Date  Humidity    Lat  \\\n",
      "70        70  ponta do sol           0      BR  1558378767        57 -20.63   \n",
      "88        88      cidreira           0      BR  1558378770        66 -30.17   \n",
      "138      138     morondava           0      MG  1558378780        69 -20.30   \n",
      "139      139         vaini           0      IN  1558378780        88  15.34   \n",
      "176      176         nador           0      MA  1558378499        40  35.17   \n",
      "297      297         mogok           0      MM  1558378844        51  22.92   \n",
      "444      444       birjand           0      IR  1558378880        26  32.86   \n",
      "\n",
      "       Lng  Max Temp  Wind Speed  \n",
      "70  -46.00     73.68        5.32  \n",
      "88  -50.22     76.56        5.50  \n",
      "138  44.28     79.08        9.06  \n",
      "139  74.49     78.90        1.59  \n",
      "176  -2.93     75.20        6.93  \n",
      "297  96.51     72.24        2.77  \n",
      "444  59.22     71.60        9.17  \n",
      "####################################################################\n",
      "             City Country    Lat    Lng Hotel Name\n",
      "70   ponta do sol      BR -20.63 -46.00           \n",
      "88       cidreira      BR -30.17 -50.22           \n",
      "138     morondava      MG -20.30  44.28           \n",
      "139         vaini      IN  15.34  74.49           \n",
      "176         nador      MA  35.17  -2.93           \n",
      "297         mogok      MM  22.92  96.51           \n",
      "444       birjand      IR  32.86  59.22           \n"
     ]
    }
   ],
   "source": [
    "#gmap.draw('map.html')\n",
    "dir = os.getcwd()\n",
    "print(dir)\n",
    "cityData = pd.read_csv(\"output_data/cities.csv\")\n",
    "print(cityData)\n",
    "locs = cityData[['Lat','Lng']]\n",
    "lat = cityData['Lat']\n",
    "lon = cityData['Lng']\n",
    "humidity = cityData['Humidity']\n",
    "print(len(locs),\" < locs humidity > \",len(humidity))\n",
    "fig = gmaps.figure()\n",
    "citiesOfInterest = cityData.loc[(cityData[\"Max Temp\"] < 80) & (cityData[\"Max Temp\"] > 70) & (cityData[\"Wind Speed\"] < 10) & (cityData[\"Cloudiness\"] == 0)].dropna()\n",
    "print(citiesOfInterest)\n",
    "\n",
    "hotels= citiesOfInterest[[\"City\", \"Country\", \"Lat\", \"Lng\"]].copy()\n",
    "hotels[\"Hotel Name\"] = \"\"\n",
    "print(\"####################################################################\")\n",
    "print(hotels)\n",
    "\n",
    "bestcities= {\"radius\": 5000, \"types\": \"lodging\", \"key\": g_key}"
   ]
  },
  {
   "cell_type": "code",
   "execution_count": 4,
   "metadata": {},
   "outputs": [
    {
     "name": "stdout",
     "output_type": "stream",
     "text": [
      "             City Country    Lat    Lng Hotel Name        (70, Hotel Name)  \\\n",
      "70   ponta do sol      BR -20.63 -46.00             Hotel Escarpas do Lago   \n",
      "88       cidreira      BR -30.17 -50.22             Hotel Escarpas do Lago   \n",
      "138     morondava      MG -20.30  44.28             Hotel Escarpas do Lago   \n",
      "139         vaini      IN  15.34  74.49             Hotel Escarpas do Lago   \n",
      "176         nador      MA  35.17  -2.93             Hotel Escarpas do Lago   \n",
      "297         mogok      MM  22.92  96.51             Hotel Escarpas do Lago   \n",
      "444       birjand      IR  32.86  59.22             Hotel Escarpas do Lago   \n",
      "\n",
      "                   (88, Hotel Name) (138, Hotel Name)    (139, Hotel Name)  \\\n",
      "70   Novomar Pousada e Turismo Ltda    La Case Bambou  Dandeli Lake County   \n",
      "88   Novomar Pousada e Turismo Ltda    La Case Bambou  Dandeli Lake County   \n",
      "138  Novomar Pousada e Turismo Ltda    La Case Bambou  Dandeli Lake County   \n",
      "139  Novomar Pousada e Turismo Ltda    La Case Bambou  Dandeli Lake County   \n",
      "176  Novomar Pousada e Turismo Ltda    La Case Bambou  Dandeli Lake County   \n",
      "297  Novomar Pousada e Turismo Ltda    La Case Bambou  Dandeli Lake County   \n",
      "444  Novomar Pousada e Turismo Ltda    La Case Bambou  Dandeli Lake County   \n",
      "\n",
      "    (176, Hotel Name) (297, Hotel Name)  (444, Hotel Name)  \n",
      "70   Hôtel La Giralda  MOGOK HILL HOTEL  تاکسی سرویس آرامش  \n",
      "88   Hôtel La Giralda  MOGOK HILL HOTEL  تاکسی سرویس آرامش  \n",
      "138  Hôtel La Giralda  MOGOK HILL HOTEL  تاکسی سرویس آرامش  \n",
      "139  Hôtel La Giralda  MOGOK HILL HOTEL  تاکسی سرویس آرامش  \n",
      "176  Hôtel La Giralda  MOGOK HILL HOTEL  تاکسی سرویس آرامش  \n",
      "297  Hôtel La Giralda  MOGOK HILL HOTEL  تاکسی سرویس آرامش  \n",
      "444  Hôtel La Giralda  MOGOK HILL HOTEL  تاکسی سرویس آرامش  \n"
     ]
    }
   ],
   "source": [
    "for index, row in hotels.iterrows():\n",
    "    # get lat, lng from df\n",
    "    lat = row[\"Lat\"]\n",
    "    lng = row[\"Lng\"]\n",
    "    bestcities[\"location\"] = f\"{lat},{lng}\"\n",
    "    # Use the search term: \"Hotel\" and our lat/lng\n",
    "    base_url = \"https://maps.googleapis.com/maps/api/place/nearbysearch/json\"\n",
    "    # make request and print url\n",
    "    name_address = requests.get(base_url, params=bestcities)\n",
    "    # convert to json\n",
    "    name_address = name_address.json()\n",
    "    # Grab the first hotel from the results and store the name\n",
    "    try:\n",
    "        hotels[index, \"Hotel Name\"] = name_address[\"results\"][0][\"name\"]\n",
    "    except (KeyError, IndexError):\n",
    "        print(\"Missing field/result... skipping.\")\n",
    "print(hotels)\n",
    "####### plot markers on map????\n",
    "lat = hotels[\"Lat\"]\n",
    "lon = hotels[\"Lng\"]\n",
    "gmap.scatter(lat, lon, color='#00FF00', size=300, marker=True)\n",
    "gmap.draw('map.html')"
   ]
  },
  {
   "cell_type": "code",
   "execution_count": 5,
   "metadata": {},
   "outputs": [
    {
     "ename": "NameError",
     "evalue": "name 'narrowed_city_df' is not defined",
     "output_type": "error",
     "traceback": [
      "\u001b[1;31m---------------------------------------------------------------------------\u001b[0m",
      "\u001b[1;31mNameError\u001b[0m                                 Traceback (most recent call last)",
      "\u001b[1;32m<ipython-input-5-f8dffc31712f>\u001b[0m in \u001b[0;36m<module>\u001b[1;34m\u001b[0m\n\u001b[0;32m     11\u001b[0m \u001b[1;31m# Store the DataFrame Row\u001b[0m\u001b[1;33m\u001b[0m\u001b[1;33m\u001b[0m\u001b[1;33m\u001b[0m\u001b[0m\n\u001b[0;32m     12\u001b[0m \u001b[1;31m# NOTE: be sure to update with your DataFrame name\u001b[0m\u001b[1;33m\u001b[0m\u001b[1;33m\u001b[0m\u001b[1;33m\u001b[0m\u001b[0m\n\u001b[1;32m---> 13\u001b[1;33m \u001b[0mhotel_info\u001b[0m \u001b[1;33m=\u001b[0m \u001b[1;33m[\u001b[0m\u001b[0minfo_box_template\u001b[0m\u001b[1;33m.\u001b[0m\u001b[0mformat\u001b[0m\u001b[1;33m(\u001b[0m\u001b[1;33m**\u001b[0m\u001b[0mrow\u001b[0m\u001b[1;33m)\u001b[0m \u001b[1;32mfor\u001b[0m \u001b[0mindex\u001b[0m\u001b[1;33m,\u001b[0m \u001b[0mrow\u001b[0m \u001b[1;32min\u001b[0m \u001b[0mnarrowed_city_df\u001b[0m\u001b[1;33m.\u001b[0m\u001b[0miterrows\u001b[0m\u001b[1;33m(\u001b[0m\u001b[1;33m)\u001b[0m\u001b[1;33m]\u001b[0m\u001b[1;33m\u001b[0m\u001b[1;33m\u001b[0m\u001b[0m\n\u001b[0m\u001b[0;32m     14\u001b[0m \u001b[0mlocations\u001b[0m \u001b[1;33m=\u001b[0m \u001b[0mhotel_df\u001b[0m\u001b[1;33m[\u001b[0m\u001b[1;33m[\u001b[0m\u001b[1;34m\"Lat\"\u001b[0m\u001b[1;33m,\u001b[0m \u001b[1;34m\"Lng\"\u001b[0m\u001b[1;33m]\u001b[0m\u001b[1;33m]\u001b[0m\u001b[1;33m\u001b[0m\u001b[1;33m\u001b[0m\u001b[0m\n",
      "\u001b[1;31mNameError\u001b[0m: name 'narrowed_city_df' is not defined"
     ]
    }
   ],
   "source": [
    "\n",
    "\n",
    "# Using the template add the hotel marks to the heatmap\n",
    "info_box_template = \"\"\"\n",
    "<dl>\n",
    "<dt>Name</dt><dd>{Hotel Name}</dd>\n",
    "<dt>City</dt><dd>{City}</dd>\n",
    "<dt>Country</dt><dd>{Country}</dd>\n",
    "</dl>\n",
    "\"\"\"\n",
    "# Store the DataFrame Row\n",
    "# NOTE: be sure to update with your DataFrame name\n",
    "hotel_info = [info_box_template.format(**row) for index, row in narrowed_city_df.iterrows()]\n",
    "locations = hotel_df[[\"Lat\", \"Lng\"]]"
   ]
  },
  {
   "cell_type": "code",
   "execution_count": null,
   "metadata": {},
   "outputs": [],
   "source": [
    "# Add marker layer ontop of heat map\n",
    "\n",
    "\n",
    "# Display Map"
   ]
  }
 ],
 "metadata": {
  "kernelspec": {
   "display_name": "Python 3",
   "language": "python",
   "name": "python3"
  },
  "language_info": {
   "codemirror_mode": {
    "name": "ipython",
    "version": 3
   },
   "file_extension": ".py",
   "mimetype": "text/x-python",
   "name": "python",
   "nbconvert_exporter": "python",
   "pygments_lexer": "ipython3",
   "version": "3.7.4"
  },
  "latex_envs": {
   "LaTeX_envs_menu_present": true,
   "autoclose": false,
   "autocomplete": true,
   "bibliofile": "biblio.bib",
   "cite_by": "apalike",
   "current_citInitial": 1,
   "eqLabelWithNumbers": true,
   "eqNumInitial": 1,
   "hotkeys": {
    "equation": "Ctrl-E",
    "itemize": "Ctrl-I"
   },
   "labels_anchors": false,
   "latex_user_defs": false,
   "report_style_numbering": false,
   "user_envs_cfg": false
  }
 },
 "nbformat": 4,
 "nbformat_minor": 2
}
