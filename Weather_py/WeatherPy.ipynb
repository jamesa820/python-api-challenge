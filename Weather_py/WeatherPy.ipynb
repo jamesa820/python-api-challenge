{
 "cells": [
  {
   "cell_type": "markdown",
   "metadata": {},
   "source": [
    "# WeatherPy\n",
    "----\n",
    "\n",
    "#### Note\n",
    "* Instructions have been included for each segment. You do not have to follow them exactly, but they are included to help you think through the steps."
   ]
  },
  {
   "cell_type": "code",
   "execution_count": null,
   "metadata": {},
   "outputs": [],
   "source": [
    "pip install citipy"
   ]
  },
  {
   "cell_type": "code",
   "execution_count": 1,
   "metadata": {
    "scrolled": true
   },
   "outputs": [],
   "source": [
    "# Dependencies and Setup\n",
    "\n",
    "import matplotlib.pyplot as plt\n",
    "import pandas as pd\n",
    "import numpy as np\n",
    "import requests\n",
    "import time\n",
    "import json\n",
    "from scipy.stats import linregress\n",
    "import pprint as pp\n",
    "\n",
    "# Import API key\n",
    "from api_keys import weather_api_key\n",
    "\n",
    "# Incorporated citipy to determine city based on latitude and longitude\n",
    "from citipy import citipy\n",
    "\n",
    "# Output File (CSV)\n",
    "data_csv = pd.read_csv(\"output_data/cities.csv\")\n",
    "\n",
    "# Range of latitudes and longitudes\n",
    "lat_range = (-90, 90)\n",
    "lng_range = (-180, 180)"
   ]
  },
  {
   "cell_type": "markdown",
   "metadata": {},
   "source": [
    "## Generate Cities List"
   ]
  },
  {
   "cell_type": "code",
   "execution_count": 2,
   "metadata": {},
   "outputs": [
    {
     "data": {
      "text/plain": [
       "591"
      ]
     },
     "execution_count": 2,
     "metadata": {},
     "output_type": "execute_result"
    }
   ],
   "source": [
    "# List for holding lat_lngs and cities\n",
    "lat_lngs = []\n",
    "cities = []\n",
    "\n",
    "# Create a set of random lat and lng combinations\n",
    "lats = np.random.uniform(low=-90.000, high=90.000, size=1500)\n",
    "lngs = np.random.uniform(low=-180.000, high=180.000, size=1500)\n",
    "lat_lngs = zip(lats, lngs)\n",
    "\n",
    "# Identify nearest city for each lat, lng combination\n",
    "for lat_lng in lat_lngs:\n",
    "    city = citipy.nearest_city(lat_lng[0], lat_lng[1]).city_name\n",
    "    \n",
    "    # If the city is unique, then add it to a our cities list\n",
    "    if city not in cities:\n",
    "        cities.append(city)\n",
    "\n",
    "# Print the city count to confirm sufficient count\n",
    "len(cities)"
   ]
  },
  {
   "cell_type": "code",
   "execution_count": 3,
   "metadata": {},
   "outputs": [
    {
     "name": "stdout",
     "output_type": "stream",
     "text": [
      "['broome', 'ponta do sol', 'attawapiskat', 'kapaa', 'vestmannaeyjar', 'bengkulu', 'antropovo', 'hobart', 'rikitea', 'buckeye', 'east london', 'ushuaia', 'smithers', 'bethel', 'nizhneyansk', 'lashio', 'bredasdorp', 'the valley', 'bluff', 'port alfred', 'vanimo', 'atuona', 'los llanos de aridane', 'namibe', 'tuktoyaktuk', 'kegayli', 'constitucion', 'albany', 'yuli', 'kulhudhuffushi', 'hilo', 'bacolod', 'mahebourg', 'severo-kurilsk', 'saint-philippe', 'yendi', 'hermanus', 'taolanaro', 'port elizabeth', 'jamestown', 'mount gambier', 'dubbo', 'coquimbo', 'lavrentiya', 'kupang', 'yellowknife', 'hami', 'mancio lima', 'iqaluit', 'hasaki', 'yambio', 'vaini', 'kazalinsk', 'sisimiut', 'henties bay', 'nara', 'katsuura', 'lhokseumawe', 'chokurdakh', 'grand river south east', 'caravelas', 'vestmanna', 'kharian', 'brora', 'alyangula', 'sola', 'san cristobal', 'qaqortoq', 'saint-augustin', 'oyama', 'upernavik', 'sao joao da barra', 'surovikino', 'pevek', 'wulanhaote', 'busselton', 'yabelo', 'mandalgovi', 'arraial do cabo', 'odienne', 'mys shmidta', 'abu zabad', 'ghanaur', 'yenagoa', 'te anau', 'gigmoto', 'vila', 'samusu', 'pisco', 'sechura', 'warrensburg', 'lebu', 'mount isa', 'tabou', 'araxa', 'olafsvik', 'qaanaaq', 'saint george', 'matara', 'dwarka', 'trairi', 'dingle', 'gat', 'tessalit', 'dikson', 'carnarvon', 'portland', 'aybak', 'illoqqortoormiut', 'karaul', 'kinna', 'souillac', 'castro', 'husavik', 'scalloway', 'kodiak', 'carhuamayo', 'omaruru', 'kalabo', 'amderma', 'marcona', 'marsaxlokk', 'kungurtug', 'olinda', 'longyearbyen', 'tabarqah', 'mataura', 'cape town', 'samarai', 'ryotsu', 'ust-nera', 'san quintin', 'faya', 'atikokan', 'uva', 'butaritari', 'yatou', 'kijang', 'baoqing', 'vryburg', 'marrakesh', 'narsaq', 'puerto ayora', 'pangnirtung', 'luanda', 'surt', 'punta arenas', 'anchorage', 'ciudad bolivar', 'mandera', 'lovozero', 'karkaralinsk', 'nome', 'el alto', 'ituporanga', 'fortuna', 'lolua', 'thompson', 'crestview', 'mao', 'norman wells', 'qobustan', 'kahului', 'bavaniste', 'ornskoldsvik', 'geraldton', 'araouane', 'trebisacce', 'ancud', 'nouadhibou', 'hithadhoo', 'ewa beach', 'belushya guba', 'ribeira grande', 'coihaique', 'vaitupu', 'carahue', 'vostok', 'new norfolk', 'provideniya', 'south lake tahoe', 'la ronge', 'leningradskiy', 'tukrah', 'ostrovnoy', 'el bordo', 'khatanga', 'grindavik', 'kuminskiy', 'bay roberts', 'xiamen', 'tasiilaq', 'havre-saint-pierre', 'mujiayingzi', 'tostedt', 'manta', 'krasnoselkup', 'bengkalis', 'clyde river', 'kalmunai', 'camacupa', 'esperance', 'aden', 'paamiut', 'tuatapere', 'tsihombe', 'wasilla', 'benguela', 'paraiso', 'baruun-urt', 'saleaula', 'kaitangata', 'nanortalik', 'ratnagiri', 'meulaboh', 'wangjing', 'bambous virieux', 'milingimbi', 'galiwinku', 'masuguru', 'phan thiet', 'mamlyutka', 'miles city', 'rawson', 'barentsburg', 'vitim', 'saldanha', 'aban', 'touros', 'barrow', 'taoudenni', 'goderich', 'revda', 'pangkalanbuun', 'grand centre', 'whitehorse', 'georgetown', 'port lincoln', 'derzhavinsk', 'pointe-noire', 'mestia', 'jalu', 'laguna', 'asau', 'rovaniemi', 'aklavik', 'tomatlan', 'cidreira', 'calama', 'san patricio', 'dehloran', 'necochea', 'mecca', 'sao felix do xingu', 'burnie', 'ambilobe', 'punta gorda', 'ust-ishim', 'abnub', 'tarrafal', 'ilulissat', 'brae', 'vila franca do campo', 'komsomolskiy', 'garowe', 'ayagoz', 'nipawin', 'iowa city', 'baykit', 'jati', 'saint-francois', 'bulgan', 'anadyr', 'algeciras', 'antalaha', 'yichang', 'broken hill', 'tarata', 'daru', 'buenos aires', 'kolodeznyy', 'chuy', 'zhangjiakou', 'shimoda', 'kavieng', 'sao desiderio', 'hobyo', 'teguldet', 'sao miguel do araguaia', 'korla', 'kruisfontein', 'codrington', 'bagotville', 'ilebo', 'novobirilyussy', 'dolni dabnik', 'itapetinga', 'fort nelson', 'arman', 'guajara-mirim', 'nokaneng', 'viligili', 'blackwater', 'muli', 'cochabamba', 'selty', 'aksu', 'bathsheba', 'yar-sale', 'mahanje', 'soyo', 'coro', 'brockville', 'allanridge', 'ketchikan', 'skjervoy', 'naze', 'itacoatiara', 'rio grande', 'avera', 'tiksi', 'zatoka', 'luderitz', 'pangody', 'buala', 'adrar', 'saskylakh', 'avarua', 'salinas', 'luau', 'jumla', 'kaeo', 'tura', 'yulara', 'lethem', 'pyshma', 'nelson bay', 'iskateley', 'coruripe', 'ometepec', 'puerto carreno', 'sovetskiy', 'porbandar', 'tahoua', 'kurri kurri', 'berlevag', 'galle', 'tadine', 'thunder bay', 'lidkoping', 'kuche', 'sulphur', 'bogovarovo', 'marataizes', 'palmer', 'azamgarh', 'zelenoborskiy', 'pilar', 'ambon', 'aflu', 'nuuk', 'hamilton', 'khani', 'kytlym', 'camacha', 'juneau', 'verkhnevilyuysk', 'alta floresta', 'praia da vitoria', 'guapo', 'price', 'torbay', 'falealupo', 'koumac', 'prado', 'polyanka', 'doctor pedro p. pena', 'klaksvik', 'lompoc', 'havelock', 'walvis bay', 'vardo', 'mitsamiouli', 'zeya', 'machiques', 'coahuayana', 'iberia', 'san vicente', 'chicama', 'puerto asis', 'sitka', 'charters towers', 'syracuse', 'tautira', 'cabadiangan', 'seybaplaya', 'padang', 'qingdao', 'gladstone', 'gurupi', 'lappeenranta', 'isla vista', 'fairbanks', 'la rioja', 'yumen', 'kalengwa', 'razole', 'karratha', 'airai', 'dengzhou', 'half moon bay', 'maues', 'eydhafushi', 'georgiyevka', 'tangshan', 'mahon', 'lubao', 'umzimvubu', 'xuddur', 'bolton', 'atherton', 'guanica', 'rudnya', 'fredericton', 'seoul', 'evensk', 'kasongo', 'shieli', 'saint combs', 'lagoa', 'waterbury', 'roding', 'kismayo', 'port hawkesbury', 'sibolga', 'qui nhon', 'antiguo morelos', 'cascais', 'stuttgart', 'harper', 'gobabis', 'moshenskoye', 'saint paul', 'viransehir', 'kamenka', 'cockburn town', 'dudinka', 'cherskiy', 'guerrero negro', 'landerneau', 'brisbane', 'dongsheng', 'bressanone', 'nago', 'bogale', 'petropavlovsk-kamchatskiy', 'lucea', 'rosario', 'duzce', 'assela', 'faanui', 'catuday', 'ugoofaaru', 'college', 'ulaangom', 'maniitsoq', 'porto novo', 'jieshi', 'victoria', 'san carlos de bariloche', 'loreto', 'karaton', 'alofi', 'moses lake', 'luganville', 'mar del plata', 'thai nguyen', 'lima', 'talnakh', 'cabo san lucas', 'medea', 'chagda', 'skibbereen', 'phangnga', 'yelan-koleno', 'ahipara', 'lakes entrance', 'macheng', 'aranos', 'camopi', 'selkirk', 'ostersund', 'vallenar', 'dmitriyevka', 'aras', 'warqla', 'sao filipe', 'metro', 'birao', 'husum', 'beloha', 'port hardy', 'salalah', 'haines junction', 'honiara', 'tabuk', 'kondinskoye', 'betioky', 'issia', 'botro', 'alice springs', 'saint anthony', 'auki', 'lasa', 'pacific grove', 'safaga', 'langxiang', 'sobolevo', 'barauna', 'zandvoort', 'concordia', 'kushmurun', 'boli', 'okha', 'kolyvan', 'saint-pierre', 'hambantota', 'machico', 'bima', 'hoganas', 'udachnyy', 'nikolskoye', 'zheleznodorozhnyy', 'rundu', 'dukat', 'tombouctou', 'jilin', 'tumannyy', 'wausau', 'vuktyl', 'boma', 'ust-kamchatsk', 'pringsewu', 'amapa', 'sur', 'dawson creek', 'play cu', 'mizusawa', 'inhambane', 'salina cruz', 'amberley', 'manggar', 'barbar', 'ust-kut', 'challans', 'rio gallegos', 'grafton', 'lorengau', 'puerto madero', 'mackay', 'muroto', 'prince rupert', 'rafsanjan', 'loukhi', 'bandar-e torkaman', 'mangai', 'mareeba', 'isangel', 'kochubey', 'coxim', 'tual', 'manavgat', 'chumikan', 'marsh harbour', 'laurel', 'montepuez', 'taltal', 'cayenne', 'dawlatabad', 'muskogee', 'gualeguaychu', 'pachino', 'banjar', 'palmerston', 'kudahuvadhoo', 'castanhal', 'port-cartier', 'nouakchott', 'yomou', 'sungairaya', 'esqueda']\n"
     ]
    }
   ],
   "source": [
    "print(cities)"
   ]
  },
  {
   "cell_type": "markdown",
   "metadata": {},
   "source": [
    "### Perform API Calls\n",
    "* Perform a weather check on each city using a series of successive API calls.\n",
    "* Include a print log of each city as it'sbeing processed (with the city number and city name).\n"
   ]
  },
  {
   "cell_type": "code",
   "execution_count": 8,
   "metadata": {},
   "outputs": [],
   "source": [
    "# Save config information.\n",
    "url = \"http://api.openweathermap.org/data/2.5/weather?\"\n",
    "\n",
    "\n",
    "# Build partial query URL\n",
    "query_url = f\"{url}q=appid={weather_api_key}&q=\""
   ]
  },
  {
   "cell_type": "code",
   "execution_count": 7,
   "metadata": {},
   "outputs": [
    {
     "name": "stdout",
     "output_type": "stream",
     "text": [
      "[51.51]\n"
     ]
    }
   ],
   "source": [
    "test=[]\n",
    "# requests.get(query_url + london).json()\n",
    "tester=requests.get(f\"http://api.openweathermap.org/data/2.5/weather?q=london&appid={weather_api_key}\").json()\n",
    "test.append(tester['coord']['lat'])\n",
    "\n",
    "print(test)"
   ]
  },
  {
   "cell_type": "code",
   "execution_count": 9,
   "metadata": {},
   "outputs": [
    {
     "ename": "KeyError",
     "evalue": "'coord'",
     "output_type": "error",
     "traceback": [
      "\u001b[1;31m----------------------------------------------------------\u001b[0m",
      "\u001b[1;31mKeyError\u001b[0m                 Traceback (most recent call last)",
      "\u001b[1;32m<ipython-input-9-5613cce3b798>\u001b[0m in \u001b[0;36m<module>\u001b[1;34m\u001b[0m\n\u001b[0;32m      9\u001b[0m \u001b[1;32mfor\u001b[0m \u001b[0mcity\u001b[0m \u001b[1;32min\u001b[0m \u001b[0mcities\u001b[0m\u001b[1;33m:\u001b[0m\u001b[1;33m\u001b[0m\u001b[1;33m\u001b[0m\u001b[0m\n\u001b[0;32m     10\u001b[0m     \u001b[0mjson_data\u001b[0m \u001b[1;33m=\u001b[0m \u001b[0mrequests\u001b[0m\u001b[1;33m.\u001b[0m\u001b[0mget\u001b[0m\u001b[1;33m(\u001b[0m\u001b[0mquery_url\u001b[0m \u001b[1;33m+\u001b[0m \u001b[0mcity\u001b[0m\u001b[1;33m)\u001b[0m\u001b[1;33m.\u001b[0m\u001b[0mjson\u001b[0m\u001b[1;33m(\u001b[0m\u001b[1;33m)\u001b[0m\u001b[1;33m\u001b[0m\u001b[1;33m\u001b[0m\u001b[0m\n\u001b[1;32m---> 11\u001b[1;33m     \u001b[0mlatitude\u001b[0m\u001b[1;33m.\u001b[0m\u001b[0mappend\u001b[0m\u001b[1;33m(\u001b[0m\u001b[0mjson_data\u001b[0m\u001b[1;33m[\u001b[0m\u001b[1;34m'coord'\u001b[0m\u001b[1;33m]\u001b[0m\u001b[1;33m[\u001b[0m\u001b[1;34m'lat'\u001b[0m\u001b[1;33m]\u001b[0m\u001b[1;33m)\u001b[0m\u001b[1;33m\u001b[0m\u001b[1;33m\u001b[0m\u001b[0m\n\u001b[0m\u001b[0;32m     12\u001b[0m     \u001b[0mtemperature\u001b[0m\u001b[1;33m.\u001b[0m\u001b[0mappend\u001b[0m\u001b[1;33m(\u001b[0m\u001b[0mjson_data\u001b[0m\u001b[1;33m[\u001b[0m\u001b[1;34m'main'\u001b[0m\u001b[1;33m]\u001b[0m\u001b[1;33m[\u001b[0m\u001b[1;34m'temp'\u001b[0m\u001b[1;33m]\u001b[0m\u001b[1;33m)\u001b[0m\u001b[1;33m\u001b[0m\u001b[1;33m\u001b[0m\u001b[0m\n\u001b[0;32m     13\u001b[0m     \u001b[0mhumidity\u001b[0m\u001b[1;33m.\u001b[0m\u001b[0mappend\u001b[0m\u001b[1;33m(\u001b[0m\u001b[0mjson_data\u001b[0m\u001b[1;33m[\u001b[0m\u001b[1;34m'main'\u001b[0m\u001b[1;33m]\u001b[0m\u001b[1;33m[\u001b[0m\u001b[1;34m'humidity'\u001b[0m\u001b[1;33m]\u001b[0m\u001b[1;33m)\u001b[0m\u001b[1;33m\u001b[0m\u001b[1;33m\u001b[0m\u001b[0m\n",
      "\u001b[1;31mKeyError\u001b[0m: 'coord'"
     ]
    }
   ],
   "source": [
    "latitude = []\n",
    "temperature = []\n",
    "humidity = []\n",
    "clouds = []\n",
    "wind_speed = []\n",
    "\n",
    "\n",
    "# Loop through the list of cities and perform a request for data on each\n",
    "for city in cities:\n",
    "    json_data = requests.get(query_url + city).json()\n",
    "    latitude.append(json_data['coord']['lat'])\n",
    "    temperature.append(json_data['main']['temp'])\n",
    "    humidity.append(json_data['main']['humidity'])\n",
    "    clouds.append(json_data['clouds']['all'])\n",
    "    wind_speed.append(json_data['wind']['speed'])\n",
    " \n",
    "\n",
    "\n",
    "   "
   ]
  },
  {
   "cell_type": "markdown",
   "metadata": {},
   "source": [
    "### Convert Raw Data to DataFrame\n",
    "* Export the city data into a .csv.\n",
    "* Display the DataFrame"
   ]
  },
  {
   "cell_type": "code",
   "execution_count": null,
   "metadata": {},
   "outputs": [],
   "source": [
    "# Convert array of JSONs into Pandas DataFrame\n",
    "data_pd = pd.DataFrame(data)\n",
    "\n",
    "# Extract relevant fields from the data frame\n",
    "lats = data_pd[\"Lat\"]\n",
    "max_temps = data_pd[\"Max Temp\"]\n",
    "humidity = data_pd[\"Humidity\"]\n",
    "cloudiness = data_pd[\"Cloudiness\"]\n",
    "wind_speed = data_pd[\"Wind Speed\"]\n",
    "\n",
    "data_pd"
   ]
  },
  {
   "cell_type": "code",
   "execution_count": null,
   "metadata": {},
   "outputs": [],
   "source": [
    "# create a data frame from cities, lat, and temp\n",
    "weather_dict = {\n",
    "    \"lat\": latitude,\n",
    "    \"temp\": temperature,\n",
    "    \"humidity\":humidity,\n",
    "    \"cloudiness\":clouds,\n",
    "    \"wind speed\":wind_speed\n",
    "}\n",
    "weather_data = pd.DataFrame(weather_dict)\n",
    "weather_data"
   ]
  },
  {
   "cell_type": "markdown",
   "metadata": {},
   "source": [
    "### Plotting the Data\n",
    "* Use proper labeling of the plots using plot titles (including date of analysis) and axes labels.\n",
    "* Save the plotted figures as .pngs."
   ]
  },
  {
   "cell_type": "markdown",
   "metadata": {},
   "source": [
    "#### Latitude vs. Temperature Plot"
   ]
  },
  {
   "cell_type": "code",
   "execution_count": null,
   "metadata": {
    "scrolled": true
   },
   "outputs": [],
   "source": [
    "# Create a Scatter Plot for temperature vs latitude\n",
    "x_values = weather_data['lat']\n",
    "y_values = weather_data['temp']\n",
    "plt.scatter(x_values,y_values)\n",
    "plt.xlabel('Latitude')\n",
    "plt.ylabel('Temperature')\n",
    "plt.show()"
   ]
  },
  {
   "cell_type": "markdown",
   "metadata": {},
   "source": [
    "#### Latitude vs. Humidity Plot"
   ]
  },
  {
   "cell_type": "code",
   "execution_count": null,
   "metadata": {},
   "outputs": [],
   "source": [
    "# Create a Scatter Plot for temperature vs latitude\n",
    "x_values = weather_data['lat']\n",
    "y_values = weather_data['humidity']\n",
    "plt.scatter(x_values,y_values)\n",
    "plt.xlabel('Latitude')\n",
    "plt.ylabel('Humidity')\n",
    "plt.show()"
   ]
  },
  {
   "cell_type": "markdown",
   "metadata": {},
   "source": [
    "#### Latitude vs. Cloudiness Plot"
   ]
  },
  {
   "cell_type": "code",
   "execution_count": null,
   "metadata": {},
   "outputs": [],
   "source": [
    "# Create a Scatter Plot for temperature vs latitude\n",
    "x_values = weather_data['lat']\n",
    "y_values = weather_data['cloudiness']\n",
    "plt.scatter(x_values,y_values)\n",
    "plt.xlabel('Latitude')\n",
    "plt.ylabel('Cloudiness')\n",
    "plt.show()"
   ]
  },
  {
   "cell_type": "markdown",
   "metadata": {},
   "source": [
    "#### Latitude vs. Wind Speed Plot"
   ]
  },
  {
   "cell_type": "code",
   "execution_count": null,
   "metadata": {},
   "outputs": [],
   "source": [
    "# Create a Scatter Plot for temperature vs latitude\n",
    "x_values = weather_data['lat']\n",
    "y_values = weather_data['wind_speed']\n",
    "plt.scatter(x_values,y_values)\n",
    "plt.xlabel('Latitude')\n",
    "plt.ylabel('Wind Speed')\n",
    "plt.show()"
   ]
  },
  {
   "cell_type": "markdown",
   "metadata": {},
   "source": [
    "## Linear Regression"
   ]
  },
  {
   "cell_type": "code",
   "execution_count": null,
   "metadata": {},
   "outputs": [],
   "source": [
    "# OPTIONAL: Create a function to create Linear Regression plots\n"
   ]
  },
  {
   "cell_type": "code",
   "execution_count": null,
   "metadata": {},
   "outputs": [],
   "source": [
    "# Create Northern and Southern Hemisphere DataFrames\n"
   ]
  },
  {
   "cell_type": "markdown",
   "metadata": {},
   "source": [
    "####  Northern Hemisphere - Max Temp vs. Latitude Linear Regression"
   ]
  },
  {
   "cell_type": "code",
   "execution_count": null,
   "metadata": {},
   "outputs": [],
   "source": []
  },
  {
   "cell_type": "markdown",
   "metadata": {},
   "source": [
    "####  Southern Hemisphere - Max Temp vs. Latitude Linear Regression"
   ]
  },
  {
   "cell_type": "code",
   "execution_count": null,
   "metadata": {},
   "outputs": [],
   "source": []
  },
  {
   "cell_type": "markdown",
   "metadata": {},
   "source": [
    "####  Northern Hemisphere - Humidity (%) vs. Latitude Linear Regression"
   ]
  },
  {
   "cell_type": "code",
   "execution_count": null,
   "metadata": {},
   "outputs": [],
   "source": []
  },
  {
   "cell_type": "markdown",
   "metadata": {},
   "source": [
    "####  Southern Hemisphere - Humidity (%) vs. Latitude Linear Regression"
   ]
  },
  {
   "cell_type": "code",
   "execution_count": null,
   "metadata": {},
   "outputs": [],
   "source": []
  },
  {
   "cell_type": "markdown",
   "metadata": {},
   "source": [
    "####  Northern Hemisphere - Cloudiness (%) vs. Latitude Linear Regression"
   ]
  },
  {
   "cell_type": "code",
   "execution_count": null,
   "metadata": {},
   "outputs": [],
   "source": []
  },
  {
   "cell_type": "markdown",
   "metadata": {},
   "source": [
    "####  Southern Hemisphere - Cloudiness (%) vs. Latitude Linear Regression"
   ]
  },
  {
   "cell_type": "code",
   "execution_count": null,
   "metadata": {},
   "outputs": [],
   "source": []
  },
  {
   "cell_type": "markdown",
   "metadata": {},
   "source": [
    "####  Northern Hemisphere - Wind Speed (mph) vs. Latitude Linear Regression"
   ]
  },
  {
   "cell_type": "code",
   "execution_count": null,
   "metadata": {},
   "outputs": [],
   "source": []
  },
  {
   "cell_type": "markdown",
   "metadata": {},
   "source": [
    "####  Southern Hemisphere - Wind Speed (mph) vs. Latitude Linear Regression"
   ]
  },
  {
   "cell_type": "code",
   "execution_count": null,
   "metadata": {},
   "outputs": [],
   "source": []
  },
  {
   "cell_type": "code",
   "execution_count": null,
   "metadata": {},
   "outputs": [],
   "source": []
  }
 ],
 "metadata": {
  "anaconda-cloud": {},
  "kernel_info": {
   "name": "python3"
  },
  "kernelspec": {
   "display_name": "Python 3",
   "language": "python",
   "name": "python3"
  },
  "language_info": {
   "codemirror_mode": {
    "name": "ipython",
    "version": 3
   },
   "file_extension": ".py",
   "mimetype": "text/x-python",
   "name": "python",
   "nbconvert_exporter": "python",
   "pygments_lexer": "ipython3",
   "version": "3.7.4"
  },
  "latex_envs": {
   "LaTeX_envs_menu_present": true,
   "autoclose": false,
   "autocomplete": true,
   "bibliofile": "biblio.bib",
   "cite_by": "apalike",
   "current_citInitial": 1,
   "eqLabelWithNumbers": true,
   "eqNumInitial": 1,
   "hotkeys": {
    "equation": "Ctrl-E",
    "itemize": "Ctrl-I"
   },
   "labels_anchors": false,
   "latex_user_defs": false,
   "report_style_numbering": false,
   "user_envs_cfg": false
  },
  "nteract": {
   "version": "0.12.3"
  }
 },
 "nbformat": 4,
 "nbformat_minor": 2
}
